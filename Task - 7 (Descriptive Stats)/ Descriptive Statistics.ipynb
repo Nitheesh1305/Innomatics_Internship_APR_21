{
 "cells": [
  {
   "cell_type": "code",
   "execution_count": 19,
   "metadata": {},
   "outputs": [],
   "source": [
    "import numpy as np\n",
    "import pandas as pd \n",
    "import math\n",
    "import statistics as stats\n",
    "from scipy.stats import norm\n",
    "import seaborn as sns\n",
    "import matplotlib.pyplot as plt\n",
    "import warnings\n",
    "warnings.filterwarnings('ignore')"
   ]
  },
  {
   "cell_type": "code",
   "execution_count": 10,
   "metadata": {},
   "outputs": [
    {
     "data": {
      "text/html": [
       "<div>\n",
       "<style scoped>\n",
       "    .dataframe tbody tr th:only-of-type {\n",
       "        vertical-align: middle;\n",
       "    }\n",
       "\n",
       "    .dataframe tbody tr th {\n",
       "        vertical-align: top;\n",
       "    }\n",
       "\n",
       "    .dataframe thead th {\n",
       "        text-align: right;\n",
       "    }\n",
       "</style>\n",
       "<table border=\"1\" class=\"dataframe\">\n",
       "  <thead>\n",
       "    <tr style=\"text-align: right;\">\n",
       "      <th></th>\n",
       "      <th>Mthly_HH_Income</th>\n",
       "      <th>Mthly_HH_Expense</th>\n",
       "      <th>No_of_Fly_Members</th>\n",
       "      <th>Emi_or_Rent_Amt</th>\n",
       "      <th>Annual_HH_Income</th>\n",
       "      <th>Highest_Qualified_Member</th>\n",
       "      <th>No_of_Earning_Members</th>\n",
       "    </tr>\n",
       "  </thead>\n",
       "  <tbody>\n",
       "    <tr>\n",
       "      <th>0</th>\n",
       "      <td>5000</td>\n",
       "      <td>8000</td>\n",
       "      <td>3</td>\n",
       "      <td>2000</td>\n",
       "      <td>64200</td>\n",
       "      <td>Under-Graduate</td>\n",
       "      <td>1</td>\n",
       "    </tr>\n",
       "    <tr>\n",
       "      <th>1</th>\n",
       "      <td>6000</td>\n",
       "      <td>7000</td>\n",
       "      <td>2</td>\n",
       "      <td>3000</td>\n",
       "      <td>79920</td>\n",
       "      <td>Illiterate</td>\n",
       "      <td>1</td>\n",
       "    </tr>\n",
       "    <tr>\n",
       "      <th>2</th>\n",
       "      <td>10000</td>\n",
       "      <td>4500</td>\n",
       "      <td>2</td>\n",
       "      <td>0</td>\n",
       "      <td>112800</td>\n",
       "      <td>Under-Graduate</td>\n",
       "      <td>1</td>\n",
       "    </tr>\n",
       "    <tr>\n",
       "      <th>3</th>\n",
       "      <td>10000</td>\n",
       "      <td>2000</td>\n",
       "      <td>1</td>\n",
       "      <td>0</td>\n",
       "      <td>97200</td>\n",
       "      <td>Illiterate</td>\n",
       "      <td>1</td>\n",
       "    </tr>\n",
       "    <tr>\n",
       "      <th>4</th>\n",
       "      <td>12500</td>\n",
       "      <td>12000</td>\n",
       "      <td>2</td>\n",
       "      <td>3000</td>\n",
       "      <td>147000</td>\n",
       "      <td>Graduate</td>\n",
       "      <td>1</td>\n",
       "    </tr>\n",
       "  </tbody>\n",
       "</table>\n",
       "</div>"
      ],
      "text/plain": [
       "   Mthly_HH_Income  Mthly_HH_Expense  No_of_Fly_Members  Emi_or_Rent_Amt  \\\n",
       "0             5000              8000                  3             2000   \n",
       "1             6000              7000                  2             3000   \n",
       "2            10000              4500                  2                0   \n",
       "3            10000              2000                  1                0   \n",
       "4            12500             12000                  2             3000   \n",
       "\n",
       "   Annual_HH_Income Highest_Qualified_Member  No_of_Earning_Members  \n",
       "0             64200           Under-Graduate                      1  \n",
       "1             79920               Illiterate                      1  \n",
       "2            112800           Under-Graduate                      1  \n",
       "3             97200               Illiterate                      1  \n",
       "4            147000                 Graduate                      1  "
      ]
     },
     "execution_count": 10,
     "metadata": {},
     "output_type": "execute_result"
    }
   ],
   "source": [
    "data = pd.read_csv('data.csv')\n",
    "data.head()"
   ]
  },
  {
   "cell_type": "markdown",
   "metadata": {},
   "source": [
    "<img src='3.jpg'>"
   ]
  },
  {
   "cell_type": "markdown",
   "metadata": {},
   "source": [
    "##  **_Mean_ :  Average** of the set of numbers\n",
    "---\n",
    "To find the mean, we need to:\n",
    "\n",
    "    1.Find the total of all the numbers\n",
    "    2.Then divide by the amount of numbers\n",
    "\n",
    "Consider 2,2,3,5,8 :\n",
    "\n",
    "$\\LARGE \\rightarrow\\  2+2+3+5+8 = 20  \\rightarrow\\ \\frac{20}{5}   = 4 $\n",
    "\n",
    "##### Formulae : \n",
    "$$\n",
    "\\begin{align}\n",
    "\\LARGE\n",
    "{mean} = \\Sigma \\frac{x}{n}  \\\\\n",
    "\\end{align}\n",
    "$$\n"
   ]
  },
  {
   "cell_type": "code",
   "execution_count": 19,
   "metadata": {},
   "outputs": [
    {
     "data": {
      "text/plain": [
       "41558.0"
      ]
     },
     "execution_count": 19,
     "metadata": {},
     "output_type": "execute_result"
    }
   ],
   "source": [
    "#Caluclating mean without library function\n",
    "def my_mean(sample):\n",
    "        return sum(sample) / len(sample)\n",
    "my_mean(data['Mthly_HH_Income'])"
   ]
  },
  {
   "cell_type": "code",
   "execution_count": 20,
   "metadata": {},
   "outputs": [
    {
     "data": {
      "text/plain": [
       "41558.0"
      ]
     },
     "execution_count": 20,
     "metadata": {},
     "output_type": "execute_result"
    }
   ],
   "source": [
    "#Caluclating mean with library function\n",
    "np.mean(data['Mthly_HH_Income'])"
   ]
  },
  {
   "cell_type": "markdown",
   "metadata": {},
   "source": [
    "##  **_Median_ :  Middle** of the set of numbers\n",
    "---\n",
    "To find the median, we need to:\n",
    "\n",
    "    1.Sort the sample\n",
    "    2.Locate the value in the middle of the sorted sample\n",
    "\\\n",
    "When locating the number in the middle of a sorted sample, we can face two kinds of situations:\n",
    "\n",
    "    1.If the sample has an odd number of observations, \n",
    "     then the middle value in the sorted sample is the median\n",
    "    \n",
    "    2.If the sample has an even number of observations, \n",
    "     then we'll need to calculate the mean of the two middle values in the sorted sample\n",
    "     \n",
    "\\\n",
    "If we have the sample [3, 5, 1, 4, 2] and want to find its median, then we first sort the sample to [1, 2, 3, 4, 5]. The median would be 3 since that's the value in the middle.\n",
    "\n",
    "\\\n",
    "On the other hand, if we have the sample [1, 2, 3, 4, 5, 6], then its median will be $ \\frac{(3 + 4)} { 2} = 3.5 $"
   ]
  },
  {
   "cell_type": "code",
   "execution_count": 21,
   "metadata": {},
   "outputs": [],
   "source": [
    "#Caluclating median without library function\n",
    "def my_median(sample):\n",
    "    n = len(sample)\n",
    "    index = n // 2\n",
    "    # Sample with an odd number of observations\n",
    "    if n % 2:\n",
    "        return sorted(sample)[index]\n",
    "   # Sample with an even number of observations\n",
    "    return sum(sorted(sample)[index - 1:index + 1]) / 2"
   ]
  },
  {
   "cell_type": "code",
   "execution_count": 16,
   "metadata": {},
   "outputs": [
    {
     "data": {
      "text/plain": [
       "35000.0"
      ]
     },
     "execution_count": 16,
     "metadata": {},
     "output_type": "execute_result"
    }
   ],
   "source": [
    "my_median(data['Mthly_HH_Income'])"
   ]
  },
  {
   "cell_type": "code",
   "execution_count": 22,
   "metadata": {},
   "outputs": [
    {
     "data": {
      "text/plain": [
       "35000.0"
      ]
     },
     "execution_count": 22,
     "metadata": {},
     "output_type": "execute_result"
    }
   ],
   "source": [
    "#Caluclating median with library function\n",
    "np.median(data['Mthly_HH_Income'])"
   ]
  },
  {
   "cell_type": "markdown",
   "metadata": {},
   "source": [
    "##  **_Mode_ :  Most Common**  of the set of numbers\n",
    "---\n",
    "The mode is the most frequent observation (or observations) in a sample. \n",
    "\n",
    "    If we have the sample [4, 1, 2, 2, 3, 5], then its mode is 2 because 2 appears two times in the sample whereas the other elements only appear once.\n",
    "\\\n",
    "The mode doesn't have to be unique. \n",
    "\n",
    "    Some samples have more than one mode. Say we have the sample [4, 1, 2, 2, 3, 5, 4].\n",
    "    This sample has two modes - 2 and 4 because they're the values that appear more often and both appear the same number of times.\n",
    "\\\n",
    "The mode is commonly used for categorical data.\n",
    "\n",
    "$$\n",
    "\\\n",
    "\\Large\n",
    "Mode = 3(Median) - 2(Mean) \n",
    "$$\n",
    "*approximately for skewed distributions"
   ]
  },
  {
   "cell_type": "code",
   "execution_count": 23,
   "metadata": {},
   "outputs": [],
   "source": [
    "#Caluclating mode without library function\n",
    "from collections import Counter\n",
    "\n",
    "def my_mode(sample):\n",
    "    c = Counter(sample)\n",
    "    return [k for k, v in c.items() if v == c.most_common(1)[0][1]]"
   ]
  },
  {
   "cell_type": "code",
   "execution_count": 25,
   "metadata": {},
   "outputs": [
    {
     "name": "stdout",
     "output_type": "stream",
     "text": [
      "['Graduate']\n"
     ]
    },
    {
     "data": {
      "text/plain": [
       "[45000]"
      ]
     },
     "execution_count": 25,
     "metadata": {},
     "output_type": "execute_result"
    }
   ],
   "source": [
    "print(my_mode(data['Highest_Qualified_Member']))\n",
    "my_mode(data['Mthly_HH_Income'])"
   ]
  },
  {
   "cell_type": "code",
   "execution_count": 36,
   "metadata": {},
   "outputs": [
    {
     "name": "stdout",
     "output_type": "stream",
     "text": [
      "Mode of Highest_Qualified_Member : Graduate\n",
      "Mode of Mthly_HH_Income : 45000\n"
     ]
    }
   ],
   "source": [
    "#Caluclating mode with library function\n",
    "x=stats.mode(data['Highest_Qualified_Member'])\n",
    "y=stats.mode(data['Mthly_HH_Income'])\n",
    "print(\"Mode of Highest_Qualified_Member :\",x)\n",
    "print(\"Mode of Mthly_HH_Income :\",y)"
   ]
  },
  {
   "cell_type": "markdown",
   "metadata": {},
   "source": [
    "#  **Variance**\n",
    "---\n",
    "Variance is a statistical measure of how far the numbers in a collection of numbers are scattered from the collection’s average(mean). \n",
    "\n",
    "\n",
    "    It tells you about the collection’s degree of dispersion. \n",
    "\n",
    "\n",
    "##### In formula it would be :\n",
    "\\\n",
    "$$\n",
    "\\begin{align}\n",
    "\\LARGE\n",
    "\\sigma^2 = \\Sigma \\frac{(x-\\mu)^2}{N}  \\\\\n",
    "\\end{align}\n",
    "$$\n",
    "\n",
    "\\\n",
    "where σ2 is variance, N is the number of data/observations, X is the data set and the μ is the mean\n",
    "\\\n",
    "Say we have a dataset [3, 5, 2, 7, 1, 3].\n",
    "\n",
    "\n",
    "\n",
    "\n",
    "To find its variance, we need to calculate the mean which is:\n",
    "\n",
    "\n",
    "\\\n",
    "$$\n",
    "\\begin{align}\n",
    "\\Large\n",
    "\\frac{(3+5+2+7+1+3)}{6}=3.5 \n",
    "\\end{align}\n",
    "$$\n",
    "\n",
    "\\\n",
    "Then, we need to calculate the sum of the square deviation from the mean of all the observations. Here's how:\n",
    "\n",
    "\\\n",
    "$$\n",
    "\\begin{align}\n",
    "\\normalsize\n",
    "{(3-3.5)^2+(5-3.5)^2+(2-3.5)^2+(7-3.5)^2+(1-3.5)^2+(3-3.5)^2 = 23.5}\n",
    "\\end{align}\n",
    "$$\n",
    "\\\n",
    "To find the variance, we just need to divide this result by the number of observations like this\n",
    "\n",
    "\n",
    "\n",
    "\\\n",
    "$$\n",
    "\\begin{align}\n",
    "\\Large\n",
    "\\frac{23.5}{6}=3.91\n",
    "\\end{align}\n",
    "$$"
   ]
  },
  {
   "cell_type": "code",
   "execution_count": 37,
   "metadata": {},
   "outputs": [],
   "source": [
    "#Caluclating variance without library function \n",
    "def variance(data):\n",
    "    # Number of observations\n",
    "    n = len(data)\n",
    "    # Mean of the data\n",
    "    mean = sum(data) / n\n",
    "    # Square deviations\n",
    "    deviations = [(x - mean) ** 2 for x in data]\n",
    "    # Variance\n",
    "    variance = sum(deviations) / n\n",
    "    return variance"
   ]
  },
  {
   "cell_type": "code",
   "execution_count": 38,
   "metadata": {},
   "outputs": [
    {
     "data": {
      "text/plain": [
       "100437186889.95831"
      ]
     },
     "execution_count": 38,
     "metadata": {},
     "output_type": "execute_result"
    }
   ],
   "source": [
    "variance(data['Annual_HH_Income'])"
   ]
  },
  {
   "cell_type": "code",
   "execution_count": 40,
   "metadata": {},
   "outputs": [
    {
     "data": {
      "text/plain": [
       "100437186889.95839"
      ]
     },
     "execution_count": 40,
     "metadata": {},
     "output_type": "execute_result"
    }
   ],
   "source": [
    "#Caluclating variance with library function \n",
    "stats.pvariance(data['Annual_HH_Income'])"
   ]
  },
  {
   "cell_type": "code",
   "execution_count": 41,
   "metadata": {},
   "outputs": [
    {
     "data": {
      "text/plain": [
       "102486925397.91672"
      ]
     },
     "execution_count": 41,
     "metadata": {},
     "output_type": "execute_result"
    }
   ],
   "source": [
    "stats.variance(data['Annual_HH_Income']) \n",
    "#That's because variance() uses n - 1 instead of n to calculate the variance"
   ]
  },
  {
   "cell_type": "markdown",
   "metadata": {},
   "source": [
    "#  **Standard Deviation**\n",
    "---\n",
    "The standard deviation measures the amount of variation or dispersion of a set of numeric values. \n",
    "\n",
    "    Standard deviation is the square root of variance σ2 and is denoted as σ \n",
    "\n",
    "\n",
    "##### In formula it would be :\n",
    "\\\n",
    "$$\n",
    "\\begin{align}\n",
    "\\LARGE\n",
    "\\sigma = \\sqrt{\\sigma^2}   \\\\\n",
    "\\end{align}\n",
    "$$\n"
   ]
  },
  {
   "cell_type": "code",
   "execution_count": 42,
   "metadata": {},
   "outputs": [],
   "source": [
    "#Caluclating standard devition without library function\n",
    "\n",
    "def stdev(data):\n",
    "    # We relay on our previous implementation for the variance\n",
    "    return math.sqrt(variance(data))"
   ]
  },
  {
   "cell_type": "code",
   "execution_count": 43,
   "metadata": {},
   "outputs": [
    {
     "data": {
      "text/plain": [
       "316918.26531451027"
      ]
     },
     "execution_count": 43,
     "metadata": {},
     "output_type": "execute_result"
    }
   ],
   "source": [
    "stdev(data['Annual_HH_Income'])"
   ]
  },
  {
   "cell_type": "code",
   "execution_count": 46,
   "metadata": {},
   "outputs": [
    {
     "data": {
      "text/plain": [
       "320135.7921225253"
      ]
     },
     "execution_count": 46,
     "metadata": {},
     "output_type": "execute_result"
    }
   ],
   "source": [
    "#Caluclating standard devition with library function\n",
    "stats.stdev(data['Annual_HH_Income'])"
   ]
  },
  {
   "cell_type": "code",
   "execution_count": 45,
   "metadata": {},
   "outputs": [
    {
     "data": {
      "text/plain": [
       "316918.2653145104"
      ]
     },
     "execution_count": 45,
     "metadata": {},
     "output_type": "execute_result"
    }
   ],
   "source": [
    "stats.pstdev(data['Annual_HH_Income'])"
   ]
  },
  {
   "cell_type": "markdown",
   "metadata": {},
   "source": [
    "# **Correlation :**\n",
    "---\n",
    "\\\n",
    "Correlation is a standardized statistical measure that expresses the extent to which two variables are linearly related (meaning how much they change together at a constant rate).\n",
    "\n",
    "\\\n",
    "The strength and directional association of the relationship between two variables are defined by correlation and it ranges from -1 to +1. \n",
    "\n",
    "\\\n",
    "Similar to covariance, a positive value denotes that both variables move in the same direction whereas a negative value tells us that they move in opposite directions.\n",
    "\n",
    "\\\n",
    "The most widely used formula to compute correlation coefficient is Pearson's 'r' :\n",
    "\n",
    "\\\n",
    "$$\n",
    "\\begin{align}\n",
    "\\LARGE\n",
    "\\ r_{xy} = \\frac{\\sum \\limits_{i=1}^{n} (\\ x_i - \\overline{x})(\\ y_i - \\overline{y})}\n",
    "{\\sqrt {\\sum \\limits_{i=1}^{n} (\\ x_i - \\overline{x})^2}\\sqrt{\\sum \\limits_{i=1}^{n}(\\ y_i - \\overline{y})^2}}  \\\\\n",
    "\\end{align}\n",
    "$$"
   ]
  },
  {
   "cell_type": "code",
   "execution_count": 47,
   "metadata": {},
   "outputs": [],
   "source": [
    "#Caluclating correlation without using library funstion\n",
    "def correlation(x, y):\n",
    "    # Finding the mean of the series x and y\n",
    "    mean_x = sum(x)/float(len(x))\n",
    "    mean_y = sum(y)/float(len(y))\n",
    "    # Subtracting mean from the individual elements\n",
    "    sub_x = [i-mean_x for i in x]\n",
    "    sub_y = [i-mean_y for i in y]\n",
    "    # covariance for x and y\n",
    "    numerator = sum([sub_x[i]*sub_y[i] for i in range(len(sub_x))])\n",
    "    # Standard Deviation of x and y\n",
    "    std_deviation_x = sum([sub_x[i]**2.0 for i in range(len(sub_x))])\n",
    "    std_deviation_y = sum([sub_y[i]**2.0 for i in range(len(sub_y))])\n",
    "    # squaring by 0.5 to find the square root\n",
    "    denominator = (std_deviation_x*std_deviation_y)**0.5 # short but equivalent to (std_deviation_x**0.5) * (std_deviation_y**0.5)\n",
    "    cor = numerator/denominator\n",
    "    return cor"
   ]
  },
  {
   "cell_type": "code",
   "execution_count": 48,
   "metadata": {},
   "outputs": [
    {
     "data": {
      "text/plain": [
       "0.5912216295468027"
      ]
     },
     "execution_count": 48,
     "metadata": {},
     "output_type": "execute_result"
    }
   ],
   "source": [
    "x=data['Annual_HH_Income']\n",
    "y=data['Mthly_HH_Expense']\n",
    "correlation(x,y)"
   ]
  },
  {
   "cell_type": "code",
   "execution_count": 54,
   "metadata": {},
   "outputs": [
    {
     "data": {
      "text/html": [
       "<div>\n",
       "<style scoped>\n",
       "    .dataframe tbody tr th:only-of-type {\n",
       "        vertical-align: middle;\n",
       "    }\n",
       "\n",
       "    .dataframe tbody tr th {\n",
       "        vertical-align: top;\n",
       "    }\n",
       "\n",
       "    .dataframe thead th {\n",
       "        text-align: right;\n",
       "    }\n",
       "</style>\n",
       "<table border=\"1\" class=\"dataframe\">\n",
       "  <thead>\n",
       "    <tr style=\"text-align: right;\">\n",
       "      <th></th>\n",
       "      <th>Mthly_HH_Income</th>\n",
       "      <th>Mthly_HH_Expense</th>\n",
       "      <th>No_of_Fly_Members</th>\n",
       "      <th>Emi_or_Rent_Amt</th>\n",
       "      <th>Annual_HH_Income</th>\n",
       "      <th>No_of_Earning_Members</th>\n",
       "    </tr>\n",
       "  </thead>\n",
       "  <tbody>\n",
       "    <tr>\n",
       "      <th>Mthly_HH_Income</th>\n",
       "      <td>1.000000</td>\n",
       "      <td>0.649215</td>\n",
       "      <td>0.448317</td>\n",
       "      <td>0.036976</td>\n",
       "      <td>0.970315</td>\n",
       "      <td>0.347883</td>\n",
       "    </tr>\n",
       "    <tr>\n",
       "      <th>Mthly_HH_Expense</th>\n",
       "      <td>0.649215</td>\n",
       "      <td>1.000000</td>\n",
       "      <td>0.639702</td>\n",
       "      <td>0.405280</td>\n",
       "      <td>0.591222</td>\n",
       "      <td>0.311915</td>\n",
       "    </tr>\n",
       "    <tr>\n",
       "      <th>No_of_Fly_Members</th>\n",
       "      <td>0.448317</td>\n",
       "      <td>0.639702</td>\n",
       "      <td>1.000000</td>\n",
       "      <td>0.085808</td>\n",
       "      <td>0.430868</td>\n",
       "      <td>0.597482</td>\n",
       "    </tr>\n",
       "    <tr>\n",
       "      <th>Emi_or_Rent_Amt</th>\n",
       "      <td>0.036976</td>\n",
       "      <td>0.405280</td>\n",
       "      <td>0.085808</td>\n",
       "      <td>1.000000</td>\n",
       "      <td>0.002716</td>\n",
       "      <td>-0.097431</td>\n",
       "    </tr>\n",
       "    <tr>\n",
       "      <th>Annual_HH_Income</th>\n",
       "      <td>0.970315</td>\n",
       "      <td>0.591222</td>\n",
       "      <td>0.430868</td>\n",
       "      <td>0.002716</td>\n",
       "      <td>1.000000</td>\n",
       "      <td>0.296679</td>\n",
       "    </tr>\n",
       "    <tr>\n",
       "      <th>No_of_Earning_Members</th>\n",
       "      <td>0.347883</td>\n",
       "      <td>0.311915</td>\n",
       "      <td>0.597482</td>\n",
       "      <td>-0.097431</td>\n",
       "      <td>0.296679</td>\n",
       "      <td>1.000000</td>\n",
       "    </tr>\n",
       "  </tbody>\n",
       "</table>\n",
       "</div>"
      ],
      "text/plain": [
       "                       Mthly_HH_Income  Mthly_HH_Expense  No_of_Fly_Members  \\\n",
       "Mthly_HH_Income               1.000000          0.649215           0.448317   \n",
       "Mthly_HH_Expense              0.649215          1.000000           0.639702   \n",
       "No_of_Fly_Members             0.448317          0.639702           1.000000   \n",
       "Emi_or_Rent_Amt               0.036976          0.405280           0.085808   \n",
       "Annual_HH_Income              0.970315          0.591222           0.430868   \n",
       "No_of_Earning_Members         0.347883          0.311915           0.597482   \n",
       "\n",
       "                       Emi_or_Rent_Amt  Annual_HH_Income  \\\n",
       "Mthly_HH_Income               0.036976          0.970315   \n",
       "Mthly_HH_Expense              0.405280          0.591222   \n",
       "No_of_Fly_Members             0.085808          0.430868   \n",
       "Emi_or_Rent_Amt               1.000000          0.002716   \n",
       "Annual_HH_Income              0.002716          1.000000   \n",
       "No_of_Earning_Members        -0.097431          0.296679   \n",
       "\n",
       "                       No_of_Earning_Members  \n",
       "Mthly_HH_Income                     0.347883  \n",
       "Mthly_HH_Expense                    0.311915  \n",
       "No_of_Fly_Members                   0.597482  \n",
       "Emi_or_Rent_Amt                    -0.097431  \n",
       "Annual_HH_Income                    0.296679  \n",
       "No_of_Earning_Members               1.000000  "
      ]
     },
     "execution_count": 54,
     "metadata": {},
     "output_type": "execute_result"
    }
   ],
   "source": [
    "#Calclating pairwise corelation using library function\n",
    "data.corr()"
   ]
  },
  {
   "cell_type": "code",
   "execution_count": 56,
   "metadata": {},
   "outputs": [
    {
     "data": {
      "text/plain": [
       "<AxesSubplot:>"
      ]
     },
     "execution_count": 56,
     "metadata": {},
     "output_type": "execute_result"
    },
    {
     "data": {
      "image/png": "[encoded data removed]",
      "text/plain": [
       "<Figure size 432x288 with 2 Axes>"
      ]
     },
     "metadata": {
      "needs_background": "light"
     },
     "output_type": "display_data"
    }
   ],
   "source": [
    "sns.heatmap(data.corr())"
   ]
  },
  {
   "cell_type": "markdown",
   "metadata": {},
   "source": [
    "# **Normal Distribution :**\n",
    "---\n",
    "Frequency distributions are all shapes, but a statistically **normal frequency distribution** has the mean as its mean, its mode, and its median and it looks like a symmetric mound or bell.\n",
    "\n",
    "\n",
    "### <font color=green>Feature of Normal Distribution:</font>\n",
    "<font color=red>The Normal Distribution has:</font>\n",
    "\n",
    "* mean = median = mode  \n",
    "\n",
    "\n",
    "\n",
    "* Symmetry about the center\n",
    "\n",
    "\n",
    "\n",
    "* 50% of values less than the mean and 50% greater than the mean\n",
    "\n",
    "\n",
    "\n",
    "<img src='4.svg'>\n",
    "\n",
    "\n",
    "<font color=yellow>Three Sigma Rule of Normal Distribution :</font>\n",
    "\n",
    "The Normal distribution is commonly associated with the 68-95-99.7 rule :\n",
    "\n",
    "\n",
    "* 68% of the data is within 1 standard deviation (σ) of the mean (μ)   <br> **P (µ - σ < X < µ + σ) = 0.68**,\n",
    "\n",
    "\n",
    "* 95% of the data is within 2 standard deviations (σ) of the mean (μ) <br>**P (µ - 2σ < X < µ + 2σ) = 0.95** and \n",
    "\n",
    "\n",
    "* 99.7% of the data is within 3 standard deviations (σ) of the mean (μ) <br>**P(µ - 3σ < X < µ + 3σ) = 0.99**\n",
    "\n",
    "\n",
    "<img src='6.png'>\n",
    "\n",
    "<font color=pink>Probability Density Function:</font>\n",
    "\n",
    "To be able to understand where the percentages come from, it is important to know about the probability density function (PDF)\n",
    "\n",
    "\n",
    "The equation below is the probability density function for a normal distribution $ X \\sim N(\\mu,\\sigma^2) \\ $ :\n",
    "\n",
    "$\n",
    "\\text{Probability density function} \\\\\n",
    "$\n",
    "$$\n",
    "\\Large\n",
    "f (x |\\mu \\ , \\sigma)=\\frac{1}{\\sigma \\sqrt{2 \\pi}}e^{-\\frac{(x- \\mu)^2}{2 \\sigma^2}}\n",
    "$$\n",
    "\n",
    "\n",
    "$$ \\ $$\n",
    "Let’s simplify it by assuming we have a mean (μ) of 0 and a standard deviation (σ) of 1. \n",
    "$$ \\ $$\n",
    "$$\n",
    "\\\n",
    "\\Large\n",
    "f(x)=\\frac{1}{\\sqrt{2 \\pi}}e^{-\\frac{x^2}{2}}\n",
    "$$\n"
   ]
  },
  {
   "cell_type": "code",
   "execution_count": 1,
   "metadata": {},
   "outputs": [
    {
     "data": {
      "image/png": "[encoded data removed]",
      "text/plain": [
       "<Figure size 720x360 with 1 Axes>"
      ]
     },
     "metadata": {
      "needs_background": "light"
     },
     "output_type": "display_data"
    }
   ],
   "source": [
    "from scipy.integrate import quad\n",
    "import numpy as np\n",
    "import matplotlib.pyplot as plt\n",
    "\n",
    "x = np.linspace(-3, 3, num = 100)\n",
    "constant = 1.0 / np.sqrt(2*np.pi)\n",
    "pdf_normal_distribution = constant * np.exp((-x**2) / 2.0)\n",
    "fig, ax = plt.subplots(figsize=(10, 5));\n",
    "ax.plot(x, pdf_normal_distribution);\n",
    "ax.set_ylim(0);\n",
    "ax.set_title('Normal Distribution', size = 20);\n",
    "ax.set_ylabel('Probability Density', size = 20);"
   ]
  },
  {
   "cell_type": "code",
   "execution_count": 8,
   "metadata": {},
   "outputs": [
    {
     "name": "stdout",
     "output_type": "stream",
     "text": [
      "Data Within 1 Standard Deviation :  0.682689492137086 \n",
      "\n",
      "Data Within 2 Standard Deviation :  0.9544997361036417 \n",
      "\n",
      "Data Within 3 Standard Deviation :  0.9973002039367399 \n",
      "\n"
     ]
    }
   ],
   "source": [
    "# Make a PDF for the normal distribution a function\n",
    "def normalProbabilityDensity(x):\n",
    "    constant = 1.0 / np.sqrt(2*np.pi)\n",
    "    return(constant * np.exp((-x**2) / 2.0) )\n",
    "# Integrate PDF from -1 to 1\n",
    "result, _ = quad(normalProbabilityDensity, -1, 1, limit = 1000)\n",
    "print(\"Data Within 1 Standard Deviation : \",result ,'\\n')\n",
    "# Integrate PDF from -2 to 2\n",
    "result, _ = quad(normalProbabilityDensity, -2, 2, limit = 1000)\n",
    "print(\"Data Within 2 Standard Deviation : \",result ,'\\n')\n",
    "# Integrate PDF from -3 to 3\n",
    "result, _ = quad(normalProbabilityDensity, -3, 3, limit = 1000)\n",
    "print(\"Data Within 3 Standard Deviation : \",result ,'\\n')"
   ]
  },
  {
   "cell_type": "markdown",
   "metadata": {},
   "source": [
    "#### Checking Distribution In Our Data"
   ]
  },
  {
   "cell_type": "code",
   "execution_count": 29,
   "metadata": {},
   "outputs": [
    {
     "data": {
      "text/plain": [
       "<AxesSubplot:xlabel='Mthly_HH_Expense', ylabel='Density'>"
      ]
     },
     "execution_count": 29,
     "metadata": {},
     "output_type": "execute_result"
    },
    {
     "data": {
      "image/png": "[encoded data removed]",
      "text/plain": [
       "<Figure size 1080x360 with 3 Axes>"
      ]
     },
     "metadata": {
      "needs_background": "light"
     },
     "output_type": "display_data"
    }
   ],
   "source": [
    "fig, axes = plt.subplots(1, 3, figsize=(15, 5), sharey=True)\n",
    "sns.distplot(data['Mthly_HH_Income'], hist=True, kde=True, \n",
    "             bins=5, color = 'red', \n",
    "             hist_kws={'edgecolor':'black'},\n",
    "             kde_kws={'linewidth': 4},ax=axes[0])\n",
    "sns.distplot(data['Annual_HH_Income'], hist=True, kde=True, \n",
    "             bins=20, color = 'blue', \n",
    "             hist_kws={'edgecolor':'black'},\n",
    "             kde_kws={'linewidth': 4},ax=axes[1])\n",
    "sns.distplot(data['Mthly_HH_Expense'], hist=True, kde=True, \n",
    "             bins=10, color = 'green', \n",
    "             hist_kws={'edgecolor':'black'},\n",
    "             kde_kws={'linewidth': 4},ax=axes[2])"
   ]
  },
  {
   "cell_type": "markdown",
   "metadata": {},
   "source": [
    "# **Skewness :**\n",
    "---\n",
    "If one tail is longer than another, the distribution is skewed.<br> \n",
    "\n",
    "\n",
    "These distributions are  called asymmetric or asymmetrical distributions as they don’t show any kind of symmetry\n",
    "\n",
    "\n",
    "A <font color=yellow>left-skewed distribution</font> has a long left tail. Left-skewed distributions are also called negatively-skewed distributions. That’s because there is a long tail in the negative direction on the number line. The mean is also to the left of the peak.\n",
    "\n",
    "A <font color=yellow>Right-skewed distribution</font> has a long right tail. Right-skewed distributions are also called positive-skew distributions. That’s because there is a long tail in the positive direction on the number line. The mean is also to the right of the peak.\n",
    "\n",
    "<img src='7.jpg'>\n",
    "$$ \\ $$\n",
    "\n",
    "\n",
    "$$\n",
    "\\Large\n",
    "Skewness = \\frac{Mean-Mode}{Standard Deviation}\n",
    "$$"
   ]
  },
  {
   "cell_type": "markdown",
   "metadata": {},
   "source": [
    "# **Effect on Mean, Median and Mode due to Skewness :**\n",
    "---\n",
    "In a normal distribution, the mean and the median are the same number while the mean and median in a skewed distribution become different numbers:\n",
    "\n",
    "\n",
    "$$ \\ $$\n",
    "* A left-skewed, negative distribution will have the mean to the left of the median.\n",
    "$$ \\ $$\n",
    "$$\n",
    "\\Large\n",
    "Mean < Median < Mode\n",
    "$$\n",
    "\n",
    "$$ \\ $$\n",
    "* A right-skewed distribution will have the mean to the right of the median.\n",
    "$$ \\ $$\n",
    "$$\n",
    "\\Large\n",
    "Mean > Median > Mode\n",
    "$$\n",
    "$$ \\ $$\n",
    "<img src='8.png'>"
   ]
  },
  {
   "cell_type": "code",
   "execution_count": 30,
   "metadata": {},
   "outputs": [
    {
     "data": {
      "text/plain": [
       "Mthly_HH_Income          0.924615\n",
       "Mthly_HH_Expense         1.199461\n",
       "No_of_Fly_Members        0.113674\n",
       "Emi_or_Rent_Amt          3.403680\n",
       "Annual_HH_Income         1.192949\n",
       "No_of_Earning_Members    1.593301\n",
       "dtype: float64"
      ]
     },
     "execution_count": 30,
     "metadata": {},
     "output_type": "execute_result"
    }
   ],
   "source": [
    "#Skewness in our data \n",
    "data.skew()"
   ]
  },
  {
   "cell_type": "markdown",
   "metadata": {},
   "source": [
    "# **_Q Q Plots (Quantile-Quantile plots)_**\n",
    "---\n",
    "In Statistics, Q-Q(quantile-quantile) plots play a very vital role to graphically analyze and compare two probability distributions by plotting their quantiles against each other. <br>\n",
    "$$ \\ $$\n",
    "If the two distributions which we are comparing are exactly equal then the points on the Q-Q plot will perfectly lie on a straight line **y = x**.\n",
    "$$ \\ $$\n",
    "**Q-Q plots** are used to find the type of distribution for a random variable whether it be a Gaussian Distribution, Uniform Distribution, Exponential Distribution or even Pareto Distribution, etc.\n",
    "$$ \\ $$\n",
    "<font color='red' size=5.5pt>How does it work ?</font>\n",
    "$$ \\ $$\n",
    "We plot the theoretical quantiles or basically known as the standard normal variate (a normal distribution with mean=0 and standard deviation=1)on the x-axis and the ordered values for the random variable which we want to find whether it is Gaussian distributed or not, on the y-axis. Which gives a very beautiful and a smooth straight line like structure from each point plotted on the graph.\n",
    "$$ \\ $$\n",
    "Now we have to focus on the ends of the straight line. If the points at the ends of the curve formed from the points are not falling on a straight line but indeed are scattered significantly from the positions then we cannot conclude a relationship between the x and y axes which clearly signifies that our ordered values which we wanted to calculate are not Normally distributed\n",
    "$$ \\ $$\n",
    "If all the points plotted on the graph perfectly lies on a straight line then we can clearly say that this distribution is Normally distribution because it is evenly aligned with the standard normal variate which is the simple concept of Q-Q plot"
   ]
  },
  {
   "cell_type": "markdown",
   "metadata": {},
   "source": [
    "### Let’s make up some data that we already know is normally distributed :"
   ]
  },
  {
   "cell_type": "code",
   "execution_count": 31,
   "metadata": {},
   "outputs": [
    {
     "data": {
      "image/png": "[encoded data removed]",
      "text/plain": [
       "<Figure size 432x288 with 1 Axes>"
      ]
     },
     "metadata": {
      "needs_background": "light"
     },
     "output_type": "display_data"
    }
   ],
   "source": [
    "import statsmodels.api as sm\n",
    "\n",
    "# Generate some normally distributed random numbers\n",
    "random_normals = [np.random.normal() for i in range(1000)]\n",
    "\n",
    "# Create QQ plot\n",
    "sm.qqplot(np.array(random_normals), line='45')\n",
    "plt.show()"
   ]
  },
  {
   "cell_type": "markdown",
   "metadata": {},
   "source": [
    "**See how our data (the blue dots) fall pretty cleanly on the red line? That means that our data is normally distributed (which we already knew). $$ \\ $$ And that’s it.If our data adheres to the red 45 degree line, it’s normal or close to it, and if it does not, then it’s not normal.**"
   ]
  },
  {
   "cell_type": "code",
   "execution_count": 32,
   "metadata": {},
   "outputs": [
    {
     "data": {
      "image/png": "[encoded data removed]",
      "text/plain": [
       "<Figure size 432x288 with 1 Axes>"
      ]
     },
     "metadata": {
      "needs_background": "light"
     },
     "output_type": "display_data"
    }
   ],
   "source": [
    "import random\n",
    "# Generate some uniformly distributed random variables\n",
    "random_uniform = [random.random() for i in range(1000)]\n",
    "# Create QQ plot\n",
    "sm.qqplot(np.array(random_uniform), line='45')\n",
    "plt.show()"
   ]
  },
  {
   "cell_type": "markdown",
   "metadata": {},
   "source": [
    "**Our data (the blue dots) is nowhere close to the red line, meaning it’s not normally distributed.**"
   ]
  },
  {
   "cell_type": "markdown",
   "metadata": {},
   "source": [
    "## **_Box-Cox Transformation_** :\n",
    "---\n",
    "When you are dealing with real-world data, you are going to deal with features that are heavily skewed. <BR>Transformation technique is useful to stabilize variance, make the data more normal distribution-like, improve the validity of measures of association.\n",
    "$$ \\ $$\n",
    "The Box-Cox transformation can be used to transform a non normal distributed data to a more normal distributed data-set.$$ \\ $$\n",
    "The Box-Cox procedure tries find the best exponent to transform the data int to a normal shape. All the data in the data-set will be raised with this factor. $$ \\ $$\n",
    "In order to do this the Box-Cox transformation search in a range form $\\lambda$ -10 to $\\lambda$ 10 for the factor with the lowest spread."
   ]
  },
  {
   "cell_type": "code",
   "execution_count": 33,
   "metadata": {},
   "outputs": [
    {
     "data": {
      "image/png": "[encoded data removed]",
      "text/plain": [
       "<Figure size 576x576 with 1 Axes>"
      ]
     },
     "metadata": {
      "needs_background": "light"
     },
     "output_type": "display_data"
    }
   ],
   "source": [
    "plt.figure(figsize = (8, 8))\n",
    "data = np.random.beta(1, 3, 5000)\n",
    "sns.distplot(data)\n",
    "plt.show()"
   ]
  },
  {
   "cell_type": "markdown",
   "metadata": {},
   "source": [
    "**We can use the Box-Cox transformation to transform the above into as close to a normal distribution as the Box-Cox transformation permits.**"
   ]
  },
  {
   "cell_type": "code",
   "execution_count": 37,
   "metadata": {},
   "outputs": [
    {
     "data": {
      "image/png": "[encoded data removed]",
      "text/plain": [
       "<Figure size 576x576 with 1 Axes>"
      ]
     },
     "metadata": {
      "needs_background": "light"
     },
     "output_type": "display_data"
    }
   ],
   "source": [
    "from scipy import stats\n",
    "tdata = stats.boxcox(data)[0]\n",
    "plt.figure(figsize = (8, 8))\n",
    "sns.distplot(tdata)\n",
    "plt.show()"
   ]
  },
  {
   "cell_type": "markdown",
   "metadata": {},
   "source": [
    "**And now our data looks more like a normal distribution.**"
   ]
  },
  {
   "cell_type": "markdown",
   "metadata": {},
   "source": [
    "<font color='Yellow' size=6pt>How does it work ?</font>\n",
    "\n",
    "---\n",
    "**The transformation of Y has the form**\n",
    "$$ \\ $$\n",
    "\n",
    "\n",
    "\n",
    "$$\n",
    "\\Large\n",
    "y_i^\\lambda = \\left\\{\n",
    "    \\begin{array}\\\\\n",
    "        \\frac{y_i^\\lambda-1}{\\lambda} & \\mbox{if } \\lambda \\neq 0 \\\\\n",
    "        0 & \\mbox{if } \\lambda  = 0 \\\\\n",
    "    \\end{array}\n",
    "\\right.\n",
    "$$\n",
    "\n",
    "$$ \\ $$\n",
    "**The Prombem with Box Cox Is Estimation of Lambda**"
   ]
  },
  {
   "cell_type": "markdown",
   "metadata": {},
   "source": [
    "$$ The \\ End $$"
   ]
  },
  {
   "cell_type": "code",
   "execution_count": null,
   "metadata": {},
   "outputs": [],
   "source": []
  }
 ],
 "metadata": {
  "kernelspec": {
   "display_name": "Python 3",
   "language": "python",
   "name": "python3"
  },
  "language_info": {
   "codemirror_mode": {
    "name": "ipython",
    "version": 3
   },
   "file_extension": ".py",
   "mimetype": "text/x-python",
   "name": "python",
   "nbconvert_exporter": "python",
   "pygments_lexer": "ipython3",
   "version": "3.8.5"
  }
 },
 "nbformat": 4,
 "nbformat_minor": 4
}
